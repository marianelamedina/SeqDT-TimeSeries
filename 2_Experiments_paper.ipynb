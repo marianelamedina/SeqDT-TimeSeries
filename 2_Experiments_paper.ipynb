{
 "cells": [
  {
   "cell_type": "markdown",
   "metadata": {},
   "source": [
    "# Experiments"
   ]
  },
  {
   "cell_type": "code",
   "execution_count": null,
   "metadata": {},
   "outputs": [],
   "source": [
    "import pandas as pd\n",
    "\n",
    "from load_dataset import load_dataset\n",
    "\n",
    "from Complete_analysis import analyze_dataset"
   ]
  },
  {
   "cell_type": "markdown",
   "metadata": {},
   "source": [
    "## Activity"
   ]
  },
  {
   "cell_type": "code",
   "execution_count": null,
   "metadata": {},
   "outputs": [],
   "source": [
    "dataset = load_dataset(\"Datasets/activity.txt\")\n",
    "result = analyze_dataset(dataset, \"Activity\")\n",
    "\n",
    "Summary = pd.DataFrame([result])"
   ]
  },
  {
   "cell_type": "markdown",
   "metadata": {},
   "source": [
    "## Aslbu"
   ]
  },
  {
   "cell_type": "code",
   "execution_count": null,
   "metadata": {},
   "outputs": [],
   "source": [
    "dataset2 = load_dataset(\"Datasets/aslbu.txt\")\n",
    "result2 = analyze_dataset(dataset2, \"Aslbu\")\n",
    "Summary = pd.concat([Summary, pd.DataFrame([result2])], ignore_index=True)"
   ]
  },
  {
   "cell_type": "markdown",
   "metadata": {},
   "source": [
    "## Auslan2"
   ]
  },
  {
   "cell_type": "code",
   "execution_count": null,
   "metadata": {},
   "outputs": [],
   "source": [
    "dataset3 = load_dataset(\"Datasets/auslan2.txt\")\n",
    "result3 = analyze_dataset(dataset3, \"Auslan2\")\n",
    "\n",
    "Summary = pd.concat([Summary, pd.DataFrame([result3])], ignore_index=True)"
   ]
  },
  {
   "cell_type": "markdown",
   "metadata": {},
   "source": [
    "## Context"
   ]
  },
  {
   "cell_type": "code",
   "execution_count": null,
   "metadata": {},
   "outputs": [],
   "source": [
    "dataset4 = load_dataset(\"Datasets/context.txt\")\n",
    "result4 = analyze_dataset(dataset4, \"Context\")\n",
    "\n",
    "Summary = pd.concat([Summary, pd.DataFrame([result4])], ignore_index=True)"
   ]
  },
  {
   "cell_type": "markdown",
   "metadata": {},
   "source": [
    "## Epitope"
   ]
  },
  {
   "cell_type": "code",
   "execution_count": null,
   "metadata": {},
   "outputs": [],
   "source": [
    "dataset5 = load_dataset(\"Datasets/epitope.txt\")\n",
    "result5 = analyze_dataset(dataset5, \"Epitope\")\n",
    "\n",
    "Summary = pd.concat([Summary, pd.DataFrame([result5])], ignore_index=True)"
   ]
  },
  {
   "cell_type": "markdown",
   "metadata": {},
   "source": [
    "## Gene"
   ]
  },
  {
   "cell_type": "code",
   "execution_count": null,
   "metadata": {},
   "outputs": [],
   "source": [
    "dataset6 = load_dataset(\"Datasets/gene.txt\")\n",
    "result6 = analyze_dataset(dataset6, \"Gene\")\n",
    "\n",
    "Summary = pd.concat([Summary, pd.DataFrame([result6])], ignore_index=True)"
   ]
  },
  {
   "cell_type": "markdown",
   "metadata": {},
   "source": [
    "## Pioneer"
   ]
  },
  {
   "cell_type": "code",
   "execution_count": null,
   "metadata": {},
   "outputs": [],
   "source": [
    "dataset7 = load_dataset(\"Datasets/pioneer.txt\")\n",
    "result7 = analyze_dataset(dataset7, \"Pioneer\")\n",
    "\n",
    "Summary = pd.concat([Summary, pd.DataFrame([result7])], ignore_index=True)"
   ]
  },
  {
   "cell_type": "markdown",
   "metadata": {},
   "source": [
    "## Question"
   ]
  },
  {
   "cell_type": "code",
   "execution_count": null,
   "metadata": {},
   "outputs": [],
   "source": [
    "dataset8 = load_dataset(\"Datasets/question.txt\")\n",
    "result8 = analyze_dataset(dataset8, \"Question\")\n",
    "\n",
    "Summary = pd.concat([Summary, pd.DataFrame([result8])], ignore_index=True)"
   ]
  },
  {
   "cell_type": "markdown",
   "metadata": {},
   "source": [
    "## Robot"
   ]
  },
  {
   "cell_type": "code",
   "execution_count": null,
   "metadata": {},
   "outputs": [],
   "source": [
    "dataset9 = load_dataset(\"Datasets/robot.txt\")\n",
    "result9 = analyze_dataset(dataset9, \"Robot\")\n",
    "\n",
    "Summary = pd.concat([Summary, pd.DataFrame([result9])], ignore_index=True)"
   ]
  },
  {
   "cell_type": "markdown",
   "metadata": {},
   "source": [
    "## Skating\n"
   ]
  },
  {
   "cell_type": "code",
   "execution_count": null,
   "metadata": {},
   "outputs": [],
   "source": [
    "dataset10 = load_dataset(\"Datasets/skating.txt\")\n",
    "result10 = analyze_dataset(dataset10, \"Skating\")\n",
    "\n",
    "Summary = pd.concat([Summary, pd.DataFrame([result10])], ignore_index=True)"
   ]
  },
  {
   "cell_type": "markdown",
   "metadata": {},
   "source": [
    "## Unix"
   ]
  },
  {
   "cell_type": "code",
   "execution_count": null,
   "metadata": {},
   "outputs": [],
   "source": [
    "dataset11 = load_dataset(\"Datasets/unix.txt\")\n",
    "result11 = analyze_dataset(dataset11, \"Unix\")\n",
    "\n",
    "Summary = pd.concat([Summary, pd.DataFrame([result11])], ignore_index=True)"
   ]
  },
  {
   "cell_type": "markdown",
   "metadata": {},
   "source": [
    "## Reuters\n"
   ]
  },
  {
   "cell_type": "code",
   "execution_count": null,
   "metadata": {},
   "outputs": [],
   "source": [
    "dataset12 = load_dataset(\"Datasets/reuters.txt\")\n",
    "result12 = analyze_dataset(dataset12, \"Reuters\")\n",
    "\n",
    "Summary = pd.concat([Summary, pd.DataFrame([result12])], ignore_index=True)"
   ]
  },
  {
   "cell_type": "markdown",
   "metadata": {},
   "source": [
    "## Webkb"
   ]
  },
  {
   "cell_type": "code",
   "execution_count": null,
   "metadata": {},
   "outputs": [],
   "source": [
    "dataset14 = load_dataset(\"Datasets/webkb.txt\")\n",
    "result14 = analyze_dataset(dataset14, \"Webkb\")\n",
    "\n",
    "Summary = pd.concat([Summary, pd.DataFrame([result14])], ignore_index=True)"
   ]
  },
  {
   "cell_type": "markdown",
   "metadata": {},
   "source": [
    "## News"
   ]
  },
  {
   "cell_type": "code",
   "execution_count": null,
   "metadata": {},
   "outputs": [],
   "source": [
    "dataset13 = load_dataset(\"Datasets/news.txt\")\n",
    "result13 = analyze_dataset(dataset13, \"News\")\n",
    "\n",
    "Summary = pd.concat([Summary, pd.DataFrame([result13])], ignore_index=True)"
   ]
  },
  {
   "cell_type": "code",
   "execution_count": null,
   "metadata": {},
   "outputs": [],
   "source": [
    "Summary"
   ]
  }
 ],
 "metadata": {
  "kernelspec": {
   "display_name": "Python 3",
   "language": "python",
   "name": "python3"
  },
  "language_info": {
   "codemirror_mode": {
    "name": "ipython",
    "version": 3
   },
   "file_extension": ".py",
   "mimetype": "text/x-python",
   "name": "python",
   "nbconvert_exporter": "python",
   "pygments_lexer": "ipython3",
   "version": "3.13.1"
  }
 },
 "nbformat": 4,
 "nbformat_minor": 2
}
